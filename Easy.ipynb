{
 "cells": [
  {
   "cell_type": "markdown",
   "id": "001e4545",
   "metadata": {},
   "source": [
    "## TwoSum\n",
    "Given an array of integers nums and an integer target, return indices of the two numbers such that they add up to target.\n",
    "\n",
    "You may assume that each input would have exactly one solution, and you may not use the same element twice.\n",
    "\n",
    "You can return the answer in any order."
   ]
  },
  {
   "cell_type": "code",
   "execution_count": 103,
   "id": "44f5a12f",
   "metadata": {},
   "outputs": [],
   "source": [
    "List = list\n",
    "\n",
    "class Solution:\n",
    "    def twoSum(self, nums: List[int], target: int) -> List[int]:\n",
    "        # create a hashmap to store the index of the complement \n",
    "        hashmap = {}\n",
    "        for index,num in enumerate(nums):\n",
    "            # The complement to the target is in the hashmap -> return its index && the current index\n",
    "            if (target-num in hashmap):\n",
    "                return [hashmap[target-num],index]\n",
    "            hashmap[num] = index\n",
    "        return -1\n",
    "            "
   ]
  },
  {
   "cell_type": "markdown",
   "id": "ac726f4f",
   "metadata": {},
   "source": [
    "# addTwoNumbers \n",
    "You are given two non-empty linked lists representing two non-negative integers. The digits are stored in reverse order, and each of their nodes contains a single digit. Add the two numbers and return the sum as a linked list.\n",
    "\n",
    "You may assume the two numbers do not contain any leading zero, except the number 0 itself."
   ]
  },
  {
   "cell_type": "code",
   "execution_count": 359,
   "id": "f0918167",
   "metadata": {},
   "outputs": [],
   "source": [
    "# Definition for singly-linked list.\n",
    "List = list\n",
    "class ListNode:\n",
    "    def __init__(self, val=0, next=None):\n",
    "        self.val = val\n",
    "        self.next = next\n",
    "    \n",
    "    def __repr__(self):\n",
    "        o = self\n",
    "        so = \"\"\n",
    "        while o!=None:\n",
    "            so += f\"=>{o.val}\"\n",
    "            o = o.next\n",
    "        return so\n",
    "    \n",
    "    @staticmethod\n",
    "    def create(l: List)-> ListNode:\n",
    "        #make a list of all of them\n",
    "        nodelist = []\n",
    "        for val in l:\n",
    "            nodelist.append(ListNode(val))\n",
    "        for i in range(len(nodelist)-1):\n",
    "            nodelist[i].next = nodelist[i+1]\n",
    "        return nodelist[0]\n",
    "    \n",
    "        \n",
    "            \n",
    "class Solution:\n",
    "    def addTwoNumbers(self, l1: ListNode, l2: ListNode) -> ListNode:\n",
    "        sm = ListNode()\n",
    "        out = ListNode((l1.val+l2.val)%10)\n",
    "        carry = ListNode((l1.val+l2.val)//10)\n",
    "        c1 = l1.next\n",
    "        c2 = l2.next\n",
    "        co = out\n",
    "        while (c1 != None) and (c2 != None):\n",
    "            co.next = ListNode((c1.val+c2.val+carry.val)%10)\n",
    "            carry = ListNode((c1.val+c2.val+carry.val)//10)\n",
    "            co = co.next\n",
    "            c1 = c1.next\n",
    "            c2 = c2.next\n",
    "            \n",
    "        # so one of them is out of nodes now\n",
    "        while (c1 != None):\n",
    "            co.next = ListNode((c1.val+carry.val)%10)\n",
    "            carry = ListNode((c1.val+carry.val)//10)\n",
    "            co = co.next\n",
    "            c1 = c1.next\n",
    "        # this looks bad, but we need to do c1,c2 separately to avoid Nonetype errors\n",
    "        while (c2 != None):\n",
    "            co.next = ListNode((c2.val+carry.val)%10)\n",
    "            carry = ListNode((c2.val+carry.val)//10)\n",
    "            co = co.next\n",
    "            c2 = c2.next\n",
    "            \n",
    "        # still carry left\n",
    "        if(carry.val):\n",
    "            co.next = ListNode(carry.val)\n",
    "        return out"
   ]
  },
  {
   "cell_type": "code",
   "execution_count": 358,
   "id": "568a813e",
   "metadata": {},
   "outputs": [
    {
     "data": {
      "text/plain": [
       "=>8=>9=>9=>9=>0=>0=>0=>1"
      ]
     },
     "execution_count": 358,
     "metadata": {},
     "output_type": "execute_result"
    }
   ],
   "source": [
    "\"\"\"\n",
    "Input: l1 = [2,4,3], l2 = [5,6,4]\n",
    "Output: [7,0,8]\n",
    "Explanation: 342 + 465 = 807\n",
    "\"\"\"\n",
    "l1 = ListNode.create([9,9,9,9])\n",
    "l2 = ListNode.create([9,9,9,9,9,9,9])\n",
    "# [8,9,9,9,0,0,0,1] expected\n",
    "s = Solution()\n",
    "s.addTwoNumbers(l1,l2)"
   ]
  },
  {
   "cell_type": "code",
   "execution_count": null,
   "id": "3c07b6e6",
   "metadata": {},
   "outputs": [],
   "source": []
  }
 ],
 "metadata": {
  "kernelspec": {
   "display_name": "Python 3 (ipykernel)",
   "language": "python",
   "name": "python3"
  },
  "language_info": {
   "codemirror_mode": {
    "name": "ipython",
    "version": 3
   },
   "file_extension": ".py",
   "mimetype": "text/x-python",
   "name": "python",
   "nbconvert_exporter": "python",
   "pygments_lexer": "ipython3",
   "version": "3.10.9"
  }
 },
 "nbformat": 4,
 "nbformat_minor": 5
}
