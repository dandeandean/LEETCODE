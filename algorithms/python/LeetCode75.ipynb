{
 "cells": [
  {
   "cell_type": "markdown",
   "id": "e7070934",
   "metadata": {},
   "source": [
    "# 1768. Merge Strings Alternately\n",
    "\n",
    "You are given two strings word1 and word2. Merge the strings by adding letters in alternating order, starting with word1. If a string is longer than the other, append the additional letters onto the end of the merged string.\n",
    "\n",
    "Return the merged string."
   ]
  },
  {
   "cell_type": "code",
   "execution_count": 4,
   "id": "eef82c65",
   "metadata": {},
   "outputs": [],
   "source": [
    "class Solution:\n",
    "    def mergeAlternately(self, word1: str, word2: str) -> str:\n",
    "        # alternatively, return ''.join(a + b for a, b in zip_longest(w1, w2, fillvalue=''))\n",
    "        out_string = \"\"\n",
    "        i = 0\n",
    "        while True:\n",
    "            if (i > len(word1)) and (i > len(word2)):\n",
    "                return out_string\n",
    "            if (i < len(word1)):\n",
    "                out_string += word1[i]\n",
    "            if (i < len(word2)):\n",
    "                out_string += word2[i]\n",
    "            i+=1\n",
    "        return out_string"
   ]
  },
  {
   "cell_type": "markdown",
   "id": "4bf13945",
   "metadata": {},
   "source": [
    "# 1071. Greatest Common Divisor of Strings\n",
    "\n",
    "For two strings s and t, we say \"t divides s\" if and only if s = t + ... + t (i.e., t is concatenated with itself one or more times).\n",
    "\n",
    "Given two strings str1 and str2, return the largest string x such that x divides both str1 and str2."
   ]
  },
  {
   "cell_type": "code",
   "execution_count": 139,
   "id": "750e69bb",
   "metadata": {},
   "outputs": [],
   "source": [
    "class Solution:\n",
    "    def gcdOfStrings(self, str1: str, str2: str) -> str:\n",
    "        # this reduces to finding the length of the gcs & returning that of one of them\n",
    "        # this is because both strings should be made up of this atom\n",
    "        out_string = \"\"\n",
    "        if str1==str2: \n",
    "            return str1\n",
    "        if str1+str2 != str2+str1:\n",
    "            return \"\"\n",
    "        for i,j in zip(str1,str2):\n",
    "            if (i == j): \n",
    "                out_string += i\n",
    "        # clean up\n",
    "        # keep on trying to cut in half until it doesn't work as an atom anymore\n",
    "        i = 1\n",
    "        while i <= len(out_string):\n",
    "            divides1 = (out_string[0:len(out_string)//i] *(len(str1) // len( out_string[0:len(out_string)//i])) == str1)\n",
    "            divides2 = (out_string[0:len(out_string)//i] *(len(str2) // len( out_string[0:len(out_string)//i])) == str2)\n",
    "            # we want largest where this is the case\n",
    "            if(divides1 and divides2):\n",
    "                return (out_string[0:len(out_string)//i])\n",
    "            i +=1\n",
    "        return out_string\n"
   ]
  },
  {
   "cell_type": "markdown",
   "id": "cec97b0b",
   "metadata": {},
   "source": [
    "# 605. Can Place Flowers\n",
    "\n",
    "You have a long flowerbed in which some of the plots are planted, and some are not. However, flowers cannot be planted in adjacent plots.\n",
    "\n",
    "Given an integer array flowerbed containing 0's and 1's, where 0 means empty and 1 means not empty, and an integer n, return true if n new flowers can be planted in the flowerbed without violating the no-adjacent-flowers rule and false otherwise."
   ]
  },
  {
   "cell_type": "code",
   "execution_count": 259,
   "id": "44090261",
   "metadata": {},
   "outputs": [],
   "source": [
    "List = list\n",
    "class Solution:\n",
    "    def canPlaceFlowers(self, flowerbed: List[int], n: int) -> bool:\n",
    "        \"\"\"\n",
    "            This problem actually reduces to 'How many contiguous 0s are there'\n",
    "            Solution help: \n",
    "            https://leetcode.com/problems/can-place-flowers/solutions/3317861/python-o-n-time-o-1-space-the-easiest-solution-without-checking-adjacent-plots/?envType=study-plan-v2&id=leetcode-75\n",
    "        \"\"\"\n",
    "        zero_counter = 1 # Counts 0s, reset 1 we encounter\n",
    "        total_available = 0 \n",
    "        for plot in flowerbed:\n",
    "            if plot: \n",
    "                # This floor div tells us how many are capable of fitting in the gap\n",
    "                total_available += (zero_counter-1)//2\n",
    "                zero_counter = 0 \n",
    "            else:\n",
    "                zero_counter += 1\n",
    "        # there may or may not be an extra space if the last spot is empty\n",
    "        if not flowerbed[-1]:\n",
    "            total_available += (zero_counter)//2\n",
    "        return total_available\n",
    "        \n",
    "        "
   ]
  },
  {
   "cell_type": "markdown",
   "id": "f39523c7",
   "metadata": {},
   "source": [
    "# 151. Reverse Words in a String\n",
    "\n",
    "Given an input string s, reverse the order of the words.\n",
    "\n",
    "A word is defined as a sequence of non-space characters. The words in s will be separated by at least one space.\n",
    "\n",
    "Return a string of the words in reverse order concatenated by a single space.\n",
    "\n",
    "Note that s may contain leading or trailing spaces or multiple spaces between two words. The returned string should only have a single space separating the words. Do not include any extra spaces."
   ]
  },
  {
   "cell_type": "code",
   "execution_count": 8,
   "id": "0e6b910b",
   "metadata": {},
   "outputs": [
    {
     "data": {
      "text/plain": [
       "'example good a'"
      ]
     },
     "execution_count": 8,
     "metadata": {},
     "output_type": "execute_result"
    }
   ],
   "source": [
    "class Solution:\n",
    "    def reverseWords(self, s: str) -> str:\n",
    "        return ' '.join(reversed(s.split()))\n",
    "        \n",
    "s=Solution()\n",
    "s.reverseWords(\" a good   example\")"
   ]
  },
  {
   "cell_type": "markdown",
   "id": "907a5619",
   "metadata": {},
   "source": [
    "# 238. Product of Array Except Self\n",
    "\n",
    "Given an integer array nums, return an array answer such that answer[i] is equal to the product of all the elements of nums except nums[i].\n",
    "\n",
    "The product of any prefix or suffix of nums is guaranteed to fit in a 32-bit integer.\n",
    "\n",
    "You must write an algorithm that runs in O(n) time and without using the division operation.\n",
    "\n",
    " \n",
    "\n",
    "Example 1:\n",
    "\n",
    "Input: nums = [1,2,3,4]\n",
    "\n",
    "Output: [24,12,8,6]\n",
    "\n",
    "Example 2:\n",
    "\n",
    "Input: nums = [-1,1,0,-3,3]\n",
    "Output: [0,0,9,0,0]\n"
   ]
  },
  {
   "cell_type": "markdown",
   "id": "daa8746b",
   "metadata": {},
   "source": [
    "## Solution\n",
    "So my idea is to have two preliminary passes, the forward and backward passes. \n",
    "\n",
    "At each index, we hold the running sum for each pass. This only takes O(n) time.\n",
    "\n",
    "For combining the two arrays, we just need to multiply the two sides of the index we want (backwards pass -1, forwards pass + 1). This step only takes O(n) time.\n",
    "\n",
    "2*O(n) = O(n)\n"
   ]
  },
  {
   "cell_type": "code",
   "execution_count": 29,
   "id": "3872bbd6",
   "metadata": {},
   "outputs": [
    {
     "data": {
      "text/plain": [
       "[24, 12, 8, 6]"
      ]
     },
     "execution_count": 29,
     "metadata": {},
     "output_type": "execute_result"
    }
   ],
   "source": [
    "List = list\n",
    "class Solution:\n",
    "    def productExceptSelf(self, nums: List[int]) -> List[int]:\n",
    "        forward_pass = [0]*len(nums)\n",
    "        backward_pass = [0]*len(nums)\n",
    "        out_list = [0]*len(nums)\n",
    "        i = 1\n",
    "        k = 1\n",
    "        # Forward Pass\n",
    "        # and also backward pass O(n)\n",
    "        for j in range(len(nums)):\n",
    "            i *= nums[j]\n",
    "            k *= nums[-(j+1)]\n",
    "            forward_pass[j] = i\n",
    "            backward_pass[-(j+1)] = k\n",
    "            \n",
    "        # combining O(n)\n",
    "        out_list[0] = backward_pass[1]\n",
    "        out_list[-1] = forward_pass[-2]\n",
    "        for n in range(1,len(nums)-1):\n",
    "            out_list[n] = forward_pass[n-1]*backward_pass[n+1]\n",
    "            \n",
    "        return out_list\n",
    "        \n",
    "        \n",
    "        \n",
    "a = [1, 2, 3, 4]\n",
    "s = Solution()\n",
    "s.productExceptSelf(a)"
   ]
  },
  {
   "cell_type": "markdown",
   "id": "dd054704",
   "metadata": {},
   "source": [
    "# 334. Increasing Triplet Subsequence\n",
    "Given an integer array nums, return true if there exists a triple of indices (i, j, k) such that i < j < k and nums[i] < nums[j] < nums[k]. If no such indices exists, return false.\n",
    " \n",
    "## Example 1:\n",
    "\n",
    "Input: nums = [1,2,3,4,5]\n",
    "\n",
    "Output: true\n",
    "\n",
    "Explanation: Any triplet where i < j < k is valid.\n",
    "## Example 2:\n",
    "\n",
    "Input: nums = [5,4,3,2,1]\n",
    "\n",
    "Output: false\n",
    "\n",
    "Explanation: No triplet exists.\n",
    "\n",
    "## Example 3:\n",
    "\n",
    "Input: nums = [2,1,5,0,4,6]\n",
    "\n",
    "Output: true\n",
    "\n",
    "Explanation: The triplet (3, 4, 5) is valid because nums[3] == 0 < nums[4] == 4 < nums[5] == 6.\n",
    " \n",
    "\n",
    "### Constraints:\n",
    "1 <= nums.length <= 5 * 10^5\n",
    "\n",
    "-2^{31} <= nums[i] <= 2^{31} - 1"
   ]
  },
  {
   "cell_type": "markdown",
   "id": "5fb86c0a",
   "metadata": {},
   "source": [
    "## Solution\n",
    "\n",
    "The first thing that comes to my mind is the brute force solution, which would take O(n^3) time I believe. \n",
    "\n",
    "My next thought is that \" we don't actuall need to find the triplet, we just need to make sure it's in there. \" This means that we can just be counting up from some point. I believe there will be a dynamic response to this algorithm. \n",
    "\n",
    "Here's my nextest thought: We take a helper function, __helper_function(i)__ that returns how many numbers are increasing from where we are in the array.\n",
    "\n",
    "-------------\n",
    "This isn't working, so I'm gonna go with this solution: https://leetcode.com/problems/increasing-triplet-subsequence/solutions/4044808/easy-optimal-solution-single-iterate-approach-o-n-o-1-space-java-solution/?envType=study-plan-v2&envId=leetcode-75"
   ]
  },
  {
   "cell_type": "code",
   "execution_count": 2,
   "id": "15e81704",
   "metadata": {},
   "outputs": [],
   "source": [
    "List = list\n",
    "class Solution:\n",
    "    def increasingTriplet(self, nums: List[int]) -> bool:\n",
    "        left_bound = right_bound = 2**31\n",
    "        for num in nums:\n",
    "            if left_bound >= num:\n",
    "                left_bound = num\n",
    "            elif right_bound >= num:\n",
    "                right_bound = num\n",
    "            else:\n",
    "                return True\n",
    "        return False"
   ]
  },
  {
   "cell_type": "markdown",
   "id": "19828fb8",
   "metadata": {},
   "source": [
    "# 443. String Compression\n",
    "\n",
    "Given an array of characters chars, compress it using the following algorithm:\n",
    "\n",
    "Begin with an empty string s. For each group of consecutive repeating characters in chars:\n",
    "\n",
    "If the group's length is 1, append the character to s.\n",
    "Otherwise, append the character followed by the group's length.\n",
    "The compressed string s should not be returned separately, but instead, be stored in the input character array chars. Note that group lengths that are 10 or longer will be split into multiple characters in chars.\n",
    "\n",
    "After you are done modifying the input array, return the new length of the array.\n",
    "\n",
    "You must write an algorithm that uses only constant extra space.\n",
    "\n",
    " \n",
    "\n",
    "## Example 1:\n",
    "\n",
    "Input: chars = [\"a\",\"a\",\"b\",\"b\",\"c\",\"c\",\"c\"]\n",
    "Output: Return 6, and the first 6 characters of the input array should be: [\"a\",\"2\",\"b\",\"2\",\"c\",\"3\"]\n",
    "Explanation: The groups are \"aa\", \"bb\", and \"ccc\". This compresses to \"a2b2c3\".\n",
    "## Example 2:\n",
    "\n",
    "Input: chars = [\"a\"]\n",
    "Output: Return 1, and the first character of the input array should be: [\"a\"]\n",
    "Explanation: The only group is \"a\", which remains uncompressed since it's a single character.\n",
    "## Example 3:\n",
    "\n",
    "Input: chars = [\"a\",\"b\",\"b\",\"b\",\"b\",\"b\",\"b\",\"b\",\"b\",\"b\",\"b\",\"b\",\"b\"]\n",
    "Output: Return 4, and the first 4 characters of the input array should be: [\"a\",\"b\",\"1\",\"2\"].\n",
    "Explanation: The groups are \"a\" and \"bbbbbbbbbbbb\". This compresses to \"ab12\".\n",
    " \n",
    "\n",
    "Constraints:\n",
    "\n",
    "1 <= chars.length <= 2000\n",
    "chars[i] is a lowercase English letter, uppercase English letter, digit, or symbol."
   ]
  },
  {
   "cell_type": "markdown",
   "id": "b7b83e40",
   "metadata": {},
   "source": [
    "# Thoughts...\n",
    "My first thought is to go through compressing all of the way through.\n",
    "\n",
    "This implementation got scuffed because I think LeeCode was doing some preprocessing of my input in order to make sure I don't just assign chars = [] then reuse the "
   ]
  },
  {
   "cell_type": "code",
   "execution_count": 95,
   "id": "9ab48f42",
   "metadata": {},
   "outputs": [
    {
     "data": {
      "text/plain": [
       "6"
      ]
     },
     "execution_count": 95,
     "metadata": {},
     "output_type": "execute_result"
    }
   ],
   "source": [
    "List = list\n",
    "class Solution:\n",
    "    def compress(self, chars: List[str]) -> int:\n",
    "        s = \"\"\n",
    "        prev_char, count = None, 1\n",
    "        for char in chars:\n",
    "\n",
    "            if prev_char == char:\n",
    "                count +=1\n",
    "            if prev_char != char:\n",
    "                if count > 1:\n",
    "                    s += str(count)\n",
    "                    count = 1\n",
    "                s+=char\n",
    "                prev_char=char\n",
    "        if count > 1:\n",
    "            s += str(count)\n",
    "        chars = list(s)\n",
    "        return len(chars)\n",
    "    \n",
    "S = Solution()\n",
    "S.compress([\"a\",\"b\",\"b\",\"b\",\"b\",\"b\",\"b\",\"b\",\"b\",\"b\",\"b\",\"b\",\"b\"])\n",
    "S.compress([\"a\",\"a\",\"b\",\"b\",\"c\",\"c\",\"c\"])\n",
    "# good enough"
   ]
  },
  {
   "cell_type": "code",
   "execution_count": null,
   "id": "1a03e894",
   "metadata": {},
   "outputs": [],
   "source": []
  },
  {
   "cell_type": "code",
   "execution_count": null,
   "id": "687fcf4f",
   "metadata": {},
   "outputs": [],
   "source": []
  }
 ],
 "metadata": {
  "kernelspec": {
   "display_name": "Python 3 (ipykernel)",
   "language": "python",
   "name": "python3"
  },
  "language_info": {
   "codemirror_mode": {
    "name": "ipython",
    "version": 3
   },
   "file_extension": ".py",
   "mimetype": "text/x-python",
   "name": "python",
   "nbconvert_exporter": "python",
   "pygments_lexer": "ipython3",
   "version": "3.11.6"
  }
 },
 "nbformat": 4,
 "nbformat_minor": 5
}
