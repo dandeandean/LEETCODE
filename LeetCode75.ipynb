{
 "cells": [
  {
   "cell_type": "markdown",
   "id": "e7070934",
   "metadata": {},
   "source": [
    "# 1768. Merge Strings Alternately\n",
    "\n",
    "You are given two strings word1 and word2. Merge the strings by adding letters in alternating order, starting with word1. If a string is longer than the other, append the additional letters onto the end of the merged string.\n",
    "\n",
    "Return the merged string."
   ]
  },
  {
   "cell_type": "code",
   "execution_count": 4,
   "id": "eef82c65",
   "metadata": {},
   "outputs": [],
   "source": [
    "class Solution:\n",
    "    def mergeAlternately(self, word1: str, word2: str) -> str:\n",
    "        # alternatively, return ''.join(a + b for a, b in zip_longest(w1, w2, fillvalue=''))\n",
    "        out_string = \"\"\n",
    "        i = 0\n",
    "        while True:\n",
    "            if (i > len(word1)) and (i > len(word2)):\n",
    "                return out_string\n",
    "            if (i < len(word1)):\n",
    "                out_string += word1[i]\n",
    "            if (i < len(word2)):\n",
    "                out_string += word2[i]\n",
    "            i+=1\n",
    "        return out_string"
   ]
  },
  {
   "cell_type": "markdown",
   "id": "4bf13945",
   "metadata": {},
   "source": [
    "# 1071. Greatest Common Divisor of Strings\n",
    "\n",
    "For two strings s and t, we say \"t divides s\" if and only if s = t + ... + t (i.e., t is concatenated with itself one or more times).\n",
    "\n",
    "Given two strings str1 and str2, return the largest string x such that x divides both str1 and str2."
   ]
  },
  {
   "cell_type": "code",
   "execution_count": 139,
   "id": "750e69bb",
   "metadata": {},
   "outputs": [],
   "source": [
    "class Solution:\n",
    "    def gcdOfStrings(self, str1: str, str2: str) -> str:\n",
    "        # this reduces to finding the length of the gcs & returning that of one of them\n",
    "        # this is because both strings should be made up of this atom\n",
    "        out_string = \"\"\n",
    "        if str1==str2: \n",
    "            return str1\n",
    "        if str1+str2 != str2+str1:\n",
    "            return \"\"\n",
    "        for i,j in zip(str1,str2):\n",
    "            if (i == j): \n",
    "                out_string += i\n",
    "        # clean up\n",
    "        # keep on trying to cut in half until it doesn't work as an atom anymore\n",
    "        i = 1\n",
    "        while i <= len(out_string):\n",
    "            divides1 = (out_string[0:len(out_string)//i] *(len(str1) // len( out_string[0:len(out_string)//i])) == str1)\n",
    "            divides2 = (out_string[0:len(out_string)//i] *(len(str2) // len( out_string[0:len(out_string)//i])) == str2)\n",
    "            # we want largest where this is the case\n",
    "            if(divides1 and divides2):\n",
    "                return (out_string[0:len(out_string)//i])\n",
    "            i +=1\n",
    "        return out_string\n"
   ]
  },
  {
   "cell_type": "code",
   "execution_count": null,
   "id": "f464e5de",
   "metadata": {},
   "outputs": [],
   "source": []
  },
  {
   "cell_type": "code",
   "execution_count": null,
   "id": "44090261",
   "metadata": {},
   "outputs": [],
   "source": []
  }
 ],
 "metadata": {
  "kernelspec": {
   "display_name": "Python 3 (ipykernel)",
   "language": "python",
   "name": "python3"
  },
  "language_info": {
   "codemirror_mode": {
    "name": "ipython",
    "version": 3
   },
   "file_extension": ".py",
   "mimetype": "text/x-python",
   "name": "python",
   "nbconvert_exporter": "python",
   "pygments_lexer": "ipython3",
   "version": "3.10.9"
  }
 },
 "nbformat": 4,
 "nbformat_minor": 5
}
